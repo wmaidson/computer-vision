{
 "cells": [
  {
   "cell_type": "markdown",
   "metadata": {},
   "source": [
    "# Operação de dilatação\n",
    "\n",
    "A operação de dilatação é oposto da operação de erosão. Nesse procedimento, a área do objeto de interesse será dilatada, ou seja, o objeto do primeiro plano ficará maior do que era inicialmente. \n",
    "\n",
    "Importando as bibliotecas e lendo a imagem"
   ]
  },
  {
   "cell_type": "code",
   "execution_count": 13,
   "metadata": {},
   "outputs": [],
   "source": [
    "import numpy as np\n",
    "import cv2\n",
    "from matplotlib import pyplot as plt\n",
    "%notebook inline\n",
    "\n",
    "img = cv2.imread('placa.PNG')"
   ]
  },
  {
   "cell_type": "markdown",
   "metadata": {},
   "source": [
    "# Elemento estruturante\n",
    "\n",
    "O elemento estruturante pode ser encarado como uma imagem binária, menor que a imagem original, armazenado geralmente em uma matriz quadrada.\n",
    "\n",
    "O elemento estruturante é a base para que qualquer operação morfológia seja executada"
   ]
  },
  {
   "cell_type": "code",
   "execution_count": 14,
   "metadata": {},
   "outputs": [
    {
     "name": "stdout",
     "output_type": "stream",
     "text": [
      "[[0 0 0 1 0 0 0]\n",
      " [0 1 1 1 1 1 0]\n",
      " [1 1 1 1 1 1 1]\n",
      " [1 1 1 1 1 1 1]\n",
      " [1 1 1 1 1 1 1]\n",
      " [0 1 1 1 1 1 0]\n",
      " [0 0 0 1 0 0 0]]\n"
     ]
    }
   ],
   "source": [
    "element_estr = cv2.getStructuringElement(cv2.MORPH_ELLIPSE, (7,7))\n",
    "\n",
    "print(element_estr)"
   ]
  },
  {
   "cell_type": "markdown",
   "metadata": {},
   "source": [
    "FUNÇÃO **dilate(img, elem_estr, interc)**\n",
    "\n",
    "Entrada:  \n",
    "          1. img = Imagem com a qual queremos trabalhar.\n",
    "          2. elem_estr = Elemento estruturante.\n",
    "          3. interc = interações desejadas.\n",
    "\n",
    "Saída:\n",
    "          1. Matriz referente a imagem sofrida com a dilatação.\n"
   ]
  },
  {
   "cell_type": "code",
   "execution_count": 12,
   "metadata": {},
   "outputs": [
    {
     "data": {
      "image/png": "[encoded data removed]",
      "text/plain": [
       "<Figure size 1440x3600 with 2 Axes>"
      ]
     },
     "metadata": {
      "needs_background": "light"
     },
     "output_type": "display_data"
    }
   ],
   "source": [
    "img_process = cv2.dilate(img, element_estr, iterations = 2)\n",
    "\n",
    "fig = plt.figure(figsize=(20,50))\n",
    "\n",
    "ax1 = fig.add_subplot(121)\n",
    "plt.imshow(img)\n",
    "plt.title(\"Imagem Original\")\n",
    "\n",
    "ax2 = fig.add_subplot(122)\n",
    "plt.imshow(img_process)\n",
    "plt.title(\"Imagem com dilatação\")\n",
    "\n",
    "plt.show()\n"
   ]
  },
  {
   "cell_type": "code",
   "execution_count": null,
   "metadata": {},
   "outputs": [],
   "source": []
  }
 ],
 "metadata": {
  "kernelspec": {
   "display_name": "Python 3",
   "language": "python",
   "name": "python3"
  },
  "language_info": {
   "codemirror_mode": {
    "name": "ipython",
    "version": 3
   },
   "file_extension": ".py",
   "mimetype": "text/x-python",
   "name": "python",
   "nbconvert_exporter": "python",
   "pygments_lexer": "ipython3",
   "version": "3.7.2"
  }
 },
 "nbformat": 4,
 "nbformat_minor": 2
}
