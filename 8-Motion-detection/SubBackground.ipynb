{
 "cells": [
  {
   "cell_type": "markdown",
   "metadata": {},
   "source": [
    "# Background Subtraction\n",
    "\n",
    "* Separate background from foreground in video streams.\n",
    "\n",
    "* All background subtraction methods are moderate in precision as well as computational time. In this class we will make some example code for this technique.\n",
    "\n",
    "### Functions:\n",
    "\n",
    "* **createBackgroundSubtractorMOG2(history, varThreshold, detectShadows)**\n",
    "* **createBackgroundSubtractorKNN(history, dist2Threshold, detectShadows)**\n",
    "\n",
    "Where:\n",
    "1. **history** = is the number of frames used to build the statistical model of the background. The smaller the value, the faster the background changes will be considered by the model and therefore will be considered as background. And vice versa.\n",
    "2. **dist2Threshold** = Threshold on the squared distance between the pixel and the sample to decide if a pixel is close to this sample. This parameter does not affect background updating.\n",
    "2. **varThreshold** = Threshold on the Mahalanobis square distance between the pixel and the model to decide if a pixel is well described by the background model. This parameter does not affect background updating.\n",
    "3. **detectShadows** = If set to True, shadows will be displayed on the image."
   ]
  },
  {
   "cell_type": "code",
   "execution_count": 1,
   "metadata": {},
   "outputs": [],
   "source": [
    "import numpy as np\n",
    "import cv2\n",
    "\n",
    "cap = cv2.VideoCapture(0)\n",
    "\n",
    "mog = cv2.createBackgroundSubtractorMOG2(history=300, varThreshold=10, detectShadows=True)\n",
    "knn = cv2.createBackgroundSubtractorKNN( history=100, dist2Threshold=40, detectShadows=True)\n",
    "\n",
    "while (True):\n",
    "     ret, frame = cap.read()\n",
    "    \n",
    "     fgmask1 = mog.apply(frame)\n",
    "     fgmask2 = knn.apply(frame)\n",
    "\n",
    "     cv2.imshow('MOG2', fgmask1)\n",
    "     cv2.imshow('KNN', fgmask2)\n",
    "\n",
    "     if cv2.waitKey(1) == 27:\n",
    "       break\n",
    "\n",
    "cap.release()\n",
    "cv2.destroyAllWindows()"
   ]
  },
  {
   "cell_type": "code",
   "execution_count": null,
   "metadata": {},
   "outputs": [],
   "source": []
  }
 ],
 "metadata": {
  "kernelspec": {
   "display_name": "Python 3",
   "language": "python",
   "name": "python3"
  },
  "language_info": {
   "codemirror_mode": {
    "name": "ipython",
    "version": 3
   },
   "file_extension": ".py",
   "mimetype": "text/x-python",
   "name": "python",
   "nbconvert_exporter": "python",
   "pygments_lexer": "ipython3",
   "version": "3.8.5"
  }
 },
 "nbformat": 4,
 "nbformat_minor": 4
}
