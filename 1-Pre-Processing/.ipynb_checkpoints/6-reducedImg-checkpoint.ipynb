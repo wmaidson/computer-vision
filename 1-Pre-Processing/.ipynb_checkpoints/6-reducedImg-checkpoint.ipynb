{
 "cells": [
  {
   "cell_type": "markdown",
   "metadata": {},
   "source": [
    "# scaling\n",
    "The scaling operation aims to proportionally change the dimensions of an image without causing it to be distorted.\n",
    "\n",
    "Importing library"
   ]
  },
  {
   "cell_type": "code",
   "execution_count": 1,
   "metadata": {},
   "outputs": [],
   "source": [
    "import cv2 as cv\n",
    "import numpy as np\n",
    "from matplotlib import pyplot as plt"
   ]
  },
  {
   "cell_type": "markdown",
   "metadata": {},
   "source": [
    "reading the image"
   ]
  },
  {
   "cell_type": "code",
   "execution_count": 2,
   "metadata": {},
   "outputs": [],
   "source": [
    "imgOriginal = cv.imread(\"einstein.jpg\")"
   ]
  },
  {
   "cell_type": "markdown",
   "metadata": {},
   "source": [
    "FUNCTION **resize(src, dst, fx, fy, interpolation)**\n",
    "\n",
    "Input:\n",
    "                 1. src = Matrix referring to the image.\n",
    "                 2. dst = Output image.\n",
    "                 3. fx = horizontal scale factor.\n",
    "                 4. fy = vertical scale factor.\n",
    "                 5. interpolation = Interpolation method\n",
    "                     INTER_NEAREST\n",
    "                     INTERLINEAR\n",
    "                     INTER_AREA\n",
    "                     INTER_CUBIC\n",
    "                \n",
    "\n",
    "Exit:\n",
    "                 1. modified image.\n"
   ]
  },
  {
   "cell_type": "code",
   "execution_count": 3,
   "metadata": {},
   "outputs": [],
   "source": [
    "imgModified = cv.resize(imgOriginal,\n",
    "                         None,\n",
    "                         fx = 0.8,\n",
    "                         fy = 0.8,\n",
    "                         interpolation = cv.INTER_CUBIC)"
   ]
  },
  {
   "cell_type": "code",
   "execution_count": 6,
   "metadata": {},
   "outputs": [],
   "source": [
    "cv.imshow(\"Original Image\", imgOriginal)\n",
    "cv.imshow(\"Image Modified\", imgModified)\n",
    "cv.waitKey(0)\n",
    "cv.destroyAllWindows()"
   ]
  }
 ],
 "metadata": {
  "kernelspec": {
   "display_name": "Python 3",
   "language": "python",
   "name": "python3"
  },
  "language_info": {
   "codemirror_mode": {
    "name": "ipython",
    "version": 3
   },
   "file_extension": ".py",
   "mimetype": "text/x-python",
   "name": "python",
   "nbconvert_exporter": "python",
   "pygments_lexer": "ipython3",
   "version": "3.8.5"
  }
 },
 "nbformat": 4,
 "nbformat_minor": 2
}
