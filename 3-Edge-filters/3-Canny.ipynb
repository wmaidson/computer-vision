{
 "cells": [
  {
   "cell_type": "markdown",
   "metadata": {},
   "source": [
    "# Detector de bordas - CANNY\n",
    "O detector de bordas por canny é um dos mais eficientes algoritmos para detectar bordas em imagens. Esse tipo de detector de bordas deve respeitar três caracter´siticas principais.\n",
    "\n",
    "1. The algorithm must be able to identify all possible edges.\n",
    "2. All detected edges must be close to the original edges.\n",
    "3. False edges cannot be created, ie each edge must be defined only once.\n",
    "\n",
    "Importing Libraries"
   ]
  },
  {
   "cell_type": "code",
   "execution_count": 2,
   "metadata": {},
   "outputs": [],
   "source": [
    "import cv2\n",
    "from matplotlib import pyplot as plt\n",
    "%notebook inline"
   ]
  },
  {
   "cell_type": "markdown",
   "metadata": {},
   "source": [
    "Reading the image"
   ]
  },
  {
   "cell_type": "code",
   "execution_count": 3,
   "metadata": {},
   "outputs": [],
   "source": [
    "img = cv2.imread('building.jpg')"
   ]
  },
  {
   "cell_type": "markdown",
   "metadata": {},
   "source": [
    "FUNÇÃO **Canny (img, int_detc1, int_detc2)**\n",
    "    \n",
    "Input:\n",
    "1. img = Image we want to work with in grayscale. 2. int_detc1 = Detection Intensity 1. 3. int_detc2 = Detection Intensity 2.\n",
    "\n",
    "Output: 1. Matrix referring to the image highlighted by Canny."
   ]
  },
  {
   "cell_type": "code",
   "execution_count": null,
   "metadata": {},
   "outputs": [],
   "source": [
    "\n",
    "\n",
    "fig = plt.figure(figsize=(20,50))\n",
    "\n",
    "ax1 = fig.add_subplot(121)\n",
    "plt.imshow(img, cmap=plt.cm.gray)\n",
    "plt.title(\"Original Image\")\n",
    "\n",
    "ax2 = fig.add_subplot(122)\n",
    "plt.imshow(canny, cmap=plt.cm.gray)\n",
    "plt.title(\"Canny Operator\")\n",
    "\n",
    "plt.show()"
   ]
  },
  {
   "cell_type": "code",
   "execution_count": null,
   "metadata": {},
   "outputs": [],
   "source": []
  }
 ],
 "metadata": {
  "kernelspec": {
   "display_name": "Python 3",
   "language": "python",
   "name": "python3"
  },
  "language_info": {
   "codemirror_mode": {
    "name": "ipython",
    "version": 3
   },
   "file_extension": ".py",
   "mimetype": "text/x-python",
   "name": "python",
   "nbconvert_exporter": "python",
   "pygments_lexer": "ipython3",
   "version": "3.8.5"
  }
 },
 "nbformat": 4,
 "nbformat_minor": 2
}
