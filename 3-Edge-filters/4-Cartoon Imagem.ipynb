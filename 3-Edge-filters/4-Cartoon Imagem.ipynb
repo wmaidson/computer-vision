{
 "cells": [
  {
   "cell_type": "markdown",
   "metadata": {},
   "source": [
    "# Cartoon image\n",
    "\n",
    "The purpose of this class is to apply filters to the images to result in a cartoon-style image"
   ]
  },
  {
   "cell_type": "code",
   "execution_count": null,
   "metadata": {},
   "outputs": [],
   "source": [
    "# Library\n",
    "import cv2\n",
    "from  matplotlib import pyplot as plt\n",
    "%matplotlib inline"
   ]
  },
  {
   "cell_type": "code",
   "execution_count": null,
   "metadata": {},
   "outputs": [],
   "source": [
    "image = cv2.imread('sunset.png')\n",
    "\n",
    "plt.figure(figsize=(10,8))\n",
    "plt.imshow(image)\n",
    "plt.show()"
   ]
  },
  {
   "cell_type": "markdown",
   "metadata": {},
   "source": [
    "### Filter *edgePreservingFilter* \n",
    "\n",
    "The *edgePreservingFilter* filter, or edge-preserving smoothing, is an image processing technique that smoothes out noise or texture while keeping edges sharp.\n",
    "\n",
    "Used in many applications, eg medical or satellite imaging, where image edges are key features and therefore must be preserved sharp and undistorted in noise smoothing/elimination. Edge preservation filters are designed to automatically limit anti-aliasing on \"edges\" in images.\n",
    "\n",
    "| src | Input Image |\n",
    "|:-:|:-:|\n",
    "| dst | Output Image |\n",
    "| flags | Edge Preservation Filters. **RECURS_FILTER** (Recursive Filtering) = 1 and **NORMCONV_FILTER** (Normalized Convolution) = 2. Using the RECURS_FILTER option is about 3.5x faster than NORMCONV_FILTER. NORMCONV_FILTER produces sharp edges and is good for applications such as styling. When sharpness is not desirable and speed is important, RECURS_FILTER should be used. |\n",
    "| sigma_s | Values ​​between 0 and 200. Controls the size of neighbors for smoothing. |\n",
    "| sigma_r | Values ​​between 0 and 1. Controls how different colors in the neighborhood will be calculated. A larger sigma_r results in large regions of constant color. |"
   ]
  },
  {
   "cell_type": "code",
   "execution_count": null,
   "metadata": {},
   "outputs": [],
   "source": [
    "#Image blur using edgePreservingFilter function\n",
    "edgePreservingImage = cv2.edgePreservingFilter(image, flags=2, sigma_s=50, sigma_r=0.4)\n",
    "\n",
    "plt.figure(figsize=(10,8))\n",
    "plt.imshow(edgePreservingImage)\n",
    "plt.show()"
   ]
  },
  {
   "cell_type": "markdown",
   "metadata": {},
   "source": [
    "### Filter *Stylization*\n",
    "\n",
    "The stylization filter produces an output that looks like the image was painted with watercolor.\n",
    "\n",
    "| src | Input Image |\n",
    "|:-:|:-:|\n",
    "| sigma_s | Values between 0 and 200. Controls the size of neighbors for smoothing. |\n",
    "| sigma_r | Values between 0 and 1. Controls how different colors in the neighborhood will be calculated. A larger sigma_r results in large regions of constant color. |"
   ]
  },
  {
   "cell_type": "code",
   "execution_count": null,
   "metadata": {},
   "outputs": [],
   "source": [
    "cartoon_image = cv2.stylization(image, sigma_s=150, sigma_r=0.25) \n",
    "\n",
    "plt.figure(figsize=(10,8))\n",
    "plt.imshow(cartoon_image)\n",
    "plt.show()\n"
   ]
  },
  {
   "cell_type": "code",
   "execution_count": null,
   "metadata": {},
   "outputs": [],
   "source": []
  }
 ],
 "metadata": {
  "kernelspec": {
   "display_name": "Python 3",
   "language": "python",
   "name": "python3"
  },
  "language_info": {
   "codemirror_mode": {
    "name": "ipython",
    "version": 3
   },
   "file_extension": ".py",
   "mimetype": "text/x-python",
   "name": "python",
   "nbconvert_exporter": "python",
   "pygments_lexer": "ipython3",
   "version": "3.8.5"
  }
 },
 "nbformat": 4,
 "nbformat_minor": 4
}
