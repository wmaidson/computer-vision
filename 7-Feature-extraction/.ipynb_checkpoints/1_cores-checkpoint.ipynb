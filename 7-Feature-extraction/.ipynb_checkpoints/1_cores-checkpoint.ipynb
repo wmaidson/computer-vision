{
 "cells": [
  {
   "cell_type": "markdown",
   "metadata": {},
   "source": [
    "# Extração de características - Aspectos\n",
    "\n",
    "As carcterísticas de aspectos de um objet de interesse define informações sobre a sua cor. As informações extraídas pela cor é uma da características mais importantes. \n",
    "\n",
    "Uma das forma de extração de características pela cor seria através do média e o desvio padrão da mesma. \n",
    "\n",
    "Importando as bibliotecas e lendo a imagem"
   ]
  },
  {
   "cell_type": "code",
   "execution_count": null,
   "metadata": {},
   "outputs": [],
   "source": []
  },
  {
   "cell_type": "markdown",
   "metadata": {},
   "source": [
    "Calculo da média e do desvio padrão das imagem em RGB e tons de cinza.\n",
    "\n",
    "A função **mean** retorna a média de todos os canais RGB começando pelo azul, depois o ver e por último o vermelho. O quarto parâmetro é o valor do alpha da imagem, pode-se dizer que seria a transparência da imagem.\n",
    "\n",
    "A função **meanStdDev** calcula a média e o desvio padrão da imagem de forma independente para cada canal e os retorna através dos parâmetros de saída.\n",
    "\n",
    "Assim, os valores mean e stdev são valores escalares para imagens coloridas que dividem a imagem em canais e calculam e aplicam um limite para cada canal de forma independente.\n",
    "\n",
    "Para essa programação é usado também a função **flatten**. Essa função retorna uma cópia da matriz em uma dimensão (1D)."
   ]
  },
  {
   "cell_type": "code",
   "execution_count": null,
   "metadata": {},
   "outputs": [],
   "source": []
  },
  {
   "cell_type": "code",
   "execution_count": null,
   "metadata": {},
   "outputs": [],
   "source": []
  }
 ],
 "metadata": {
  "kernelspec": {
   "display_name": "Python 3",
   "language": "python",
   "name": "python3"
  },
  "language_info": {
   "codemirror_mode": {
    "name": "ipython",
    "version": 3
   },
   "file_extension": ".py",
   "mimetype": "text/x-python",
   "name": "python",
   "nbconvert_exporter": "python",
   "pygments_lexer": "ipython3",
   "version": "3.7.2"
  }
 },
 "nbformat": 4,
 "nbformat_minor": 2
}
