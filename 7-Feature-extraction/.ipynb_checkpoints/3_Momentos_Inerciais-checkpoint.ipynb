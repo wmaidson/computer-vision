{
 "cells": [
  {
   "cell_type": "markdown",
   "metadata": {},
   "source": [
    "# Extração de características Inerciais e Hu\n",
    "\n",
    "As características inerciais definem informações sobre os momentos, o centro geométrico e as formas geométricas envolventes de um objeto de interesse.\n",
    "\n",
    "É possível através dessas características reconhecer objetos mesmo que tenham sofrido alterações na escala, rotação ou translação.\n",
    "\n",
    "Importando a biblioteca e lendo a imagem\n"
   ]
  },
  {
   "cell_type": "code",
   "execution_count": null,
   "metadata": {},
   "outputs": [],
   "source": []
  },
  {
   "cell_type": "markdown",
   "metadata": {},
   "source": [
    "### Momentos de uma imagem\n",
    "\n",
    "Os momentos de uma imagem, também conhecido como momentos estatísticos, é um dos principais métodos para extração de características. São obtidos por funções matemáticas, com base estatísticas, que fornecem valores que representam um determinado objeto.\n",
    "\n",
    "Através de imagens binárias podemos calcular esses momentos. A função **moments** extrais essas características retornando 24 momentos que caracterizam a imagem.\n"
   ]
  },
  {
   "cell_type": "code",
   "execution_count": null,
   "metadata": {},
   "outputs": [],
   "source": []
  },
  {
   "cell_type": "markdown",
   "metadata": {},
   "source": [
    "Pode-se usar os momentos para calcular por exemplo a área, medias e centroide de uma objeto."
   ]
  },
  {
   "cell_type": "code",
   "execution_count": null,
   "metadata": {},
   "outputs": [],
   "source": []
  },
  {
   "cell_type": "code",
   "execution_count": null,
   "metadata": {},
   "outputs": [],
   "source": []
  }
 ],
 "metadata": {
  "kernelspec": {
   "display_name": "Python 3",
   "language": "python",
   "name": "python3"
  },
  "language_info": {
   "codemirror_mode": {
    "name": "ipython",
    "version": 3
   },
   "file_extension": ".py",
   "mimetype": "text/x-python",
   "name": "python",
   "nbconvert_exporter": "python",
   "pygments_lexer": "ipython3",
   "version": "3.7.2"
  }
 },
 "nbformat": 4,
 "nbformat_minor": 2
}
