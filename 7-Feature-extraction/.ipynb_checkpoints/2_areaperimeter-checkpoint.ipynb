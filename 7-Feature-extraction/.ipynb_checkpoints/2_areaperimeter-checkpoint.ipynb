{
 "cells": [
  {
   "cell_type": "markdown",
   "metadata": {},
   "source": [
    "# Feature extraction - Dimensional\n",
    "\n",
    "Dimensional characteristics define information about the size of the object of interest. Area, perimeter and diameter are the top three in this category.\n",
    "\n",
    "Importing Libraries and Image"
   ]
  },
  {
   "cell_type": "code",
   "execution_count": 1,
   "metadata": {},
   "outputs": [],
   "source": [
    "import cv2\n",
    "import numpy as np\n",
    "\n",
    "im = cv2.imread(\"triangle.jpg\", 0)"
   ]
  },
  {
   "cell_type": "markdown",
   "metadata": {},
   "source": [
    "Binarization segmentation"
   ]
  },
  {
   "cell_type": "code",
   "execution_count": 2,
   "metadata": {},
   "outputs": [],
   "source": [
    "tipo = cv2.THRESH_BINARY_INV\n",
    "_, imgBin = cv2.threshold(im, 0, 255, tipo)"
   ]
  },
  {
   "cell_type": "markdown",
   "metadata": {},
   "source": [
    "The area of an object of interest is defined by the total number of pixels it represents. And through the cotourArea function it is possible to obtain it.\n",
    "\n",
    "To use this function, you must first use another function, findContours. This function extracts from a binary image the points that represent the contours of the segmented objects.\n",
    "\n",
    "FUNCTION findContours(img, mode, method)\n",
    "\n",
    "Input:\n",
    "1. img = Image we want to work with binary. 2. mode = points extracted from the image will be stored(cv2.RETR_TREE) 3. method = points from the binary image(cv2.CHAIN_APPROX_NONE, cv2.CHAIN_APPROX_SIMPLE ).\n",
    "\n",
    "Output: 1. image data we want to calculate the area.\n",
    "\n",
    "FUNCTION contourArea(Exit_findContours)\n",
    "\n",
    "Input: 1. Output_findContours = Segmented object obtained by findContours function\n",
    "\n",
    "Output: 2. Area of the studied object."
   ]
  },
  {
   "cell_type": "code",
   "execution_count": 3,
   "metadata": {},
   "outputs": [],
   "source": [
    "mode = cv2.RETR_TREE\n",
    "method = cv2.CHAIN_APPROX_SIMPLE\n",
    "\n",
    "contour, hierarchy = cv2.findContours(imgBin, mode, method)"
   ]
  },
  {
   "cell_type": "markdown",
   "metadata": {},
   "source": [
    "To find the perimeter of an object another function is needed. The perimeter of an object is defined by the sum of the pixels that represent its outline.\n",
    "\n",
    "Through the **arcLength** function you can find this perimeter.\n",
    "\n",
    "FUNCTION **arcLength(Output_findContours, contours)**\n",
    "\n",
    "Input:\n",
    "         1. Output_findContours = Segmented object obtained by the findContours function\n",
    "         2. contours = contour to be obtained (TRUE = closed contour, FALSE = closed contour)\n",
    "\n",
    "Exit:\n",
    "         1. Area of the studied object.\n",
    "\n",
    "To make sure we are working with at least a detectable segmentation we need to do a check."
   ]
  },
  {
   "cell_type": "code",
   "execution_count": 4,
   "metadata": {},
   "outputs": [
    {
     "name": "stdout",
     "output_type": "stream",
     "text": [
      "86112.0\n",
      "1174.0\n"
     ]
    }
   ],
   "source": [
    "if len(outline)>0:\n",
    "     obj = contour[0]\n",
    "     area = cv2.contourArea(obj)\n",
    "     print(area)\n",
    "    \n",
    "     perimeter = cv2.arcLength(obj, True)\n",
    "     print(perimeter)\n",
    "    \n",
    "else:\n",
    "     print(\"No outline found\")"
   ]
  },
  {
   "cell_type": "code",
   "execution_count": null,
   "metadata": {},
   "outputs": [],
   "source": []
  }
 ],
 "metadata": {
  "kernelspec": {
   "display_name": "Python 3",
   "language": "python",
   "name": "python3"
  },
  "language_info": {
   "codemirror_mode": {
    "name": "ipython",
    "version": 3
   },
   "file_extension": ".py",
   "mimetype": "text/x-python",
   "name": "python",
   "nbconvert_exporter": "python",
   "pygments_lexer": "ipython3",
   "version": "3.8.5"
  }
 },
 "nbformat": 4,
 "nbformat_minor": 2
}
