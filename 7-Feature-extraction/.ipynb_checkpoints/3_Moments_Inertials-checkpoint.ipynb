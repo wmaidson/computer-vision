{
 "cells": [
  {
   "cell_type": "markdown",
   "metadata": {},
   "source": [
    "# Extraction of Inertial and Hu features\n",
    "\n",
    "Inertial characteristics define information about the moments, geometric center and surrounding geometric shapes of an object of interest.\n",
    "\n",
    "It is possible through these features to recognize objects even if they have undergone changes in scale, rotation or translation.\n",
    "\n",
    "Importing the library and reading the image"
   ]
  },
  {
   "cell_type": "code",
   "execution_count": 1,
   "metadata": {},
   "outputs": [],
   "source": [
    "import cv2\n",
    "\n",
    "img = cv2.imread(\"circle.jpg\",0)"
   ]
  },
  {
   "cell_type": "markdown",
   "metadata": {},
   "source": [
    "### Moments of an image\n",
    "Moments of an image, also known as statistical moments, is one of the main methods for extracting features. They are obtained by mathematical functions, based on statistics, which provide values that represent a certain object.\n",
    "\n",
    "Through binary images we can calculate these moments. The moments function extracts these characteristics returning 24 moments that characterize the image.\n"
   ]
  },
  {
   "cell_type": "code",
   "execution_count": 2,
   "metadata": {},
   "outputs": [
    {
     "name": "stdout",
     "output_type": "stream",
     "text": [
      "24\n",
      "{'m00': 9740472.0, 'm10': 1450751967.0, 'm01': 1414048943.0, 'm20': 247066445923.0, 'm11': 210617730829.0, 'm02': 235272834855.0, 'm30': 46083717823557.0, 'm21': 35917968379499.0, 'm12': 35061438839295.0, 'm03': 42998284860185.0, 'mu20': 30990544287.599884, 'mu11': 8400450.398132324, 'mu02': 29991775251.37735, 'mu30': 53985530320.72656, 'mu21': 48205533503.196815, 'mu12': 17317235786.488758, 'mu03': 135169024614.21875, 'nu20': 0.0003266398739391575, 'nu11': 8.854062173332019e-08, 'nu02': 0.0003161128632142572, 'nu30': 1.823170841030612e-07, 'nu21': 1.627971838698608e-07, 'nu12': 5.848285484204391e-08, 'nu03': 4.56485696858254e-07}\n"
     ]
    }
   ],
   "source": [
    "moments = cv2.moments(img)\n",
    "\n",
    "print(len(moments))\n",
    "print(moments)"
   ]
  },
  {
   "cell_type": "markdown",
   "metadata": {},
   "source": [
    "You can use moments to calculate for example the area, means and centroid of an object."
   ]
  },
  {
   "cell_type": "code",
   "execution_count": 5,
   "metadata": {},
   "outputs": [
    {
     "name": "stdout",
     "output_type": "stream",
     "text": [
      "9740472.0\n",
      "\n",
      "\n",
      "medias\n",
      "148.94062289794581\n",
      "145.17252788160573\n",
      "centroide\n",
      "148\n",
      "145\n"
     ]
    }
   ],
   "source": [
    "area = moments['m00']\n",
    "print(area)\n",
    "print(\"\\n\")\n",
    "\n",
    "X = moments['m10']/area\n",
    "Y = moments['m01']/area\n",
    "\n",
    "print(\"media\")\n",
    "print(X)\n",
    "print(Y)\n",
    "\n",
    "cx = int(moments['m10']/moments['m00'])\n",
    "cy = int(moments['m01']/moments['m00'])\n",
    "\n",
    "print(\"centroid\")\n",
    "print(box)\n",
    "print(cy)"
   ]
  },
  {
   "cell_type": "code",
   "execution_count": null,
   "metadata": {},
   "outputs": [],
   "source": []
  }
 ],
 "metadata": {
  "kernelspec": {
   "display_name": "Python 3",
   "language": "python",
   "name": "python3"
  },
  "language_info": {
   "codemirror_mode": {
    "name": "ipython",
    "version": 3
   },
   "file_extension": ".py",
   "mimetype": "text/x-python",
   "name": "python",
   "nbconvert_exporter": "python",
   "pygments_lexer": "ipython3",
   "version": "3.8.5"
  }
 },
 "nbformat": 4,
 "nbformat_minor": 2
}
