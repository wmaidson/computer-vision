{
 "cells": [
  {
   "cell_type": "markdown",
   "metadata": {},
   "source": [
    "# Feature extraction - Aspects\n",
    "\n",
    "The aspect characteristics of an object of interest define information about its color. Information extracted by color is one of the most important characteristics.\n",
    "\n",
    "One way of extracting characteristics by color would be through its mean and standard deviation.\n",
    "\n",
    "Importing libraries and reading the image"
   ]
  },
  {
   "cell_type": "code",
   "execution_count": 2,
   "metadata": {},
   "outputs": [],
   "source": [
    "import cv2\n",
    "import numpy as np\n",
    "from matplotlib import pyplot as plt\n",
    "%inline notebook\n",
    "\n",
    "img = cv2.imread(\"blue_cover.jpg\", 1)\n",
    "img_gray = cv2.imread(\"blue_cover.jpg\", 0)\n",
    "\n",
    "cv2.imshow(\"Image in RGB\", img)\n",
    "cv2.imshow(\"Image in grayscale\", img_gray)\n",
    "\n",
    "cv2.waitKey(0)\n",
    "cv2.destroyAllWindows()"
   ]
  },
  {
   "cell_type": "markdown",
   "metadata": {},
   "source": [
    "Calculation of mean and standard deviation of images in RGB and grayscale.\n",
    "\n",
    "The **mean** function returns the average of all RGB channels starting with blue, then ver, and finally red. The fourth parameter is the alpha value of the image, it can be said that it would be the transparency of the image.\n",
    "\n",
    "The **meanStdDev** function independently calculates the mean and standard deviation of the image for each channel and returns them through the output parameters.\n",
    "\n",
    "Thus, the mean and stdev values are scalar values for color images that divide the image into channels and calculate and apply a limit for each channel independently.\n",
    "\n",
    "For this programming the **flatten** function is also used. This function returns a copy of the array in one dimension (1D)."
   ]
  },
  {
   "cell_type": "code",
   "execution_count": 4,
   "metadata": {},
   "outputs": [
    {
     "name": "stdout",
     "output_type": "stream",
     "text": [
      "valores da media e desvio padrao RGB\n",
      "(186.72332373508843, 115.3949540655423, 84.14405594405594, 0.0)\n",
      "[186.72332374 115.39495407  84.14405594  66.53434632  92.698083\n",
      " 100.51165611]\n",
      "valores da media e desvio padrao Tons de cinza\n",
      "(113.9375017139723, 0.0, 0.0, 0.0)\n",
      "[113.93750171  87.96396844]\n"
     ]
    }
   ],
   "source": [
    "AverageValue = cv2.mean(img)\n",
    "MedioGrayvalue = cv2.mean(img_gray)\n",
    "\n",
    "(mean, std) = cv2.meanStdDev(img)\n",
    "(means, stds ) = cv2.meanStdDev(img_gray)\n",
    "\n",
    "RGB = np.concatenate([(mean, std)]).flatten()\n",
    "Gray = np.concatenate([(means, stds)]).flatten()\n",
    "\n",
    "print(\"RGB mean and standard deviation values\")\n",
    "print(average value)\n",
    "print(RGB)\n",
    "\n",
    "print(\"mean and standard deviation values grayscale\")\n",
    "print(MedioGrayValue)\n",
    "print(Gray)"
   ]
  },
  {
   "cell_type": "code",
   "execution_count": null,
   "metadata": {},
   "outputs": [],
   "source": []
  }
 ],
 "metadata": {
  "kernelspec": {
   "display_name": "Python 3",
   "language": "python",
   "name": "python3"
  },
  "language_info": {
   "codemirror_mode": {
    "name": "ipython",
    "version": 3
   },
   "file_extension": ".py",
   "mimetype": "text/x-python",
   "name": "python",
   "nbconvert_exporter": "python",
   "pygments_lexer": "ipython3",
   "version": "3.8.5"
  }
 },
 "nbformat": 4,
 "nbformat_minor": 2
}
