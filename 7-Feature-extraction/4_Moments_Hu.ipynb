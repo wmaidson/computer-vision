{
 "cells": [
  {
   "cell_type": "markdown",
   "metadata": {},
   "source": [
    "### Hu invariant moments\n",
    "\n",
    "Hu's invariant moments are seven moments calculated from the moments of an image. Through them, we can obtain the area, the geometric center and even a vector of invariant features in scale, rotation and translation of an object.\n",
    "\n",
    "The **HuMoments** function calculates these invariant moments. This function requires only the moments of the object as a parameter.\n",
    "\n"
   ]
  },
  {
   "cell_type": "code",
   "execution_count": 1,
   "metadata": {},
   "outputs": [
    {
     "name": "stdout",
     "output_type": "stream",
     "text": [
      "[ 6.42752737e-04  1.10849313e-10  1.06516013e-15  4.41495897e-13\n",
      " -5.94760320e-27 -3.37400894e-18 -7.50261259e-27]\n"
     ]
    }
   ],
   "source": [
    "import cv2\n",
    "import numpy as np\n",
    "\n",
    "img = cv2.imread(\"circle.jpg\",0)\n",
    "\n",
    "momentos = cv2.moments(img)\n",
    "\n",
    "momentosHu = cv2.HuMoments(momentos)\n",
    "\n",
    "print(momentosHu.flatten())"
   ]
  },
  {
   "cell_type": "code",
   "execution_count": null,
   "metadata": {},
   "outputs": [],
   "source": []
  }
 ],
 "metadata": {
  "kernelspec": {
   "display_name": "Python 3",
   "language": "python",
   "name": "python3"
  },
  "language_info": {
   "codemirror_mode": {
    "name": "ipython",
    "version": 3
   },
   "file_extension": ".py",
   "mimetype": "text/x-python",
   "name": "python",
   "nbconvert_exporter": "python",
   "pygments_lexer": "ipython3",
   "version": "3.8.5"
  }
 },
 "nbformat": 4,
 "nbformat_minor": 2
}
