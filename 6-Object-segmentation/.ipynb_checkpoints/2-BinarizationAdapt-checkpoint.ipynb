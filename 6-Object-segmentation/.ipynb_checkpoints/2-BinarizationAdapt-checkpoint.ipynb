{
 "cells": [
  {
   "cell_type": "markdown",
   "metadata": {},
   "source": [
    "# Adaptive binarization\n",
    "\n",
    "This method is used when the image does not have adequate lighting for the binarization procedure. Adaptive binarization calculates different threshold values for each region of the image, so each region is treated in order to obtain the best result considering its contrast.\n",
    "\n",
    "Importing libraries and reading the image."
   ]
  },
  {
   "cell_type": "code",
   "execution_count": 2,
   "metadata": {},
   "outputs": [],
   "source": [
    "import cv2\n",
    "import numpy as np\n",
    "from matplotlib import pyplot as plt\n",
    "%notebook inline\n",
    "\n",
    "img = cv2.imread('eye.PNG', 0)"
   ]
  },
  {
   "cell_type": "markdown",
   "metadata": {},
   "source": [
    "Applying a median filter to the image to smooth it better"
   ]
  },
  {
   "cell_type": "code",
   "execution_count": 3,
   "metadata": {},
   "outputs": [],
   "source": [
    "imgGauss = cv2.medianBlur(img, 7)"
   ]
  },
  {
   "cell_type": "markdown",
   "metadata": {},
   "source": [
    "FUCTION **adaptiveThreshold(src, maxValue, adaptiveMethod, thresholdType, blockSize, C)**\n",
    "\n",
    "Input:\n",
    "            1. src = Matrix referring to the image.\n",
    "            2. maxValue = Max pixel intensity value.\n",
    "            3. adaptiveMethod = ADAPTIVE_THRESH_MEAN_C\n",
    "                                ADAPTIVE_THRESH_GAUSSIAN_C\n",
    "            4. thresholdType = THRESH_BINARY – Object of interest in black color.\n",
    "                               THRESH_BINARY_INV – Object of interest in white color.\n",
    "            5. blockSize = Mask size.\n",
    "            6. C = Mean or weighted mean subtraction constant.\n",
    "\n",
    "Output = Matrix referring to the adapted binarized image.\n"
   ]
  },
  {
   "cell_type": "code",
   "execution_count": 4,
   "metadata": {},
   "outputs": [],
   "source": [
    "th2 = cv2.adaptiveThreshold(imgGauss, 255, cv2.ADAPTIVE_THRESH_MEAN_C, cv2.THRESH_BINARY, 11, 5)\n",
    "th3 = cv2.adaptiveThreshold(imgGauss, 255, cv2.ADAPTIVE_THRESH_GAUSSIAN_C, cv2.THRESH_BINARY, 11, 2)\n"
   ]
  },
  {
   "cell_type": "markdown",
   "metadata": {},
   "source": [
    "Imagens segmentadas por binarização adaptativa"
   ]
  },
  {
   "cell_type": "code",
   "execution_count": 6,
   "metadata": {},
   "outputs": [],
   "source": [
    "cv2.imshow('Original', img)\n",
    "cv2.imshow('Media Image', th2)\n",
    "cv2.imshow('Gaussian image', th3)\n",
    "\n",
    "cv2.waitKey(0)\n",
    "cv2.destroyAllWindows()"
   ]
  },
  {
   "cell_type": "code",
   "execution_count": null,
   "metadata": {},
   "outputs": [],
   "source": []
  }
 ],
 "metadata": {
  "kernelspec": {
   "display_name": "Python 3",
   "language": "python",
   "name": "python3"
  },
  "language_info": {
   "codemirror_mode": {
    "name": "ipython",
    "version": 3
   },
   "file_extension": ".py",
   "mimetype": "text/x-python",
   "name": "python",
   "nbconvert_exporter": "python",
   "pygments_lexer": "ipython3",
   "version": "3.8.5"
  }
 },
 "nbformat": 4,
 "nbformat_minor": 2
}
