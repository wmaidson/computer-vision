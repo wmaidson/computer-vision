{
 "cells": [
  {
   "cell_type": "markdown",
   "metadata": {},
   "source": [
    "# Blurred face\n",
    "\n",
    "The objective of this program is to develop a face recognition by Haarcascade and make the face blur using Gaussian Blur."
   ]
  },
  {
   "cell_type": "code",
   "execution_count": 1,
   "metadata": {},
   "outputs": [
    {
     "name": "stdout",
     "output_type": "stream",
     "text": [
      "A pasta Haarcascades existe.\n"
     ]
    }
   ],
   "source": [
    "# libraries\n",
    "import cv2\n",
    "import\n",
    "\n",
    "\n",
    "# Path\n",
    "path = os.getcwd()\n",
    "\n",
    "# Checking if the folder with Haarcascades exists\n",
    "if os.path.isdir('Haarcascades') == False:\n",
    "     print('The Haarcascades folder cannot be found.')\n",
    "else:\n",
    "     print('The Haarcascades folder exists.')\n",
    "\n",
    "# Reading the xml\n",
    "cascade = cv2.CascadeClassifier(\n",
    "     path + '\\\\Haarcascades\\\\haarcascade_frontalface_default.xml')"
   ]
  },
  {
   "cell_type": "markdown",
   "metadata": {},
   "source": [
    "### Face detection function"
   ]
  },
  {
   "cell_type": "code",
   "execution_count": 2,
   "metadata": {},
   "outputs": [],
   "source": [
    "set faceBlur(gray, frame):\n",
    "    \n",
    "     # Face detection\n",
    "     faces = cascade.detectMultiScale(gray, 1.1, 4)\n",
    "    \n",
    "     # Face location\n",
    "     for (x,y,w,h) in faces:\n",
    "         # ROI of the face\n",
    "         roi_frame = frame[y:y+h, x:x+w]\n",
    "        \n",
    "         # Filter\n",
    "         blur = cv2.GaussianBlur(roi_frame, (101, 101), 0)\n",
    "        \n",
    "         # Filter application\n",
    "         frame[y:y+h, x:x+w] = blur\n",
    "        \n",
    "        \n",
    "     return frame"
   ]
  },
  {
   "cell_type": "markdown",
   "metadata": {},
   "source": [
    "### Image capture"
   ]
  },
  {
   "cell_type": "code",
   "execution_count": 3,
   "metadata": {},
   "outputs": [],
   "source": [
    "cap = cv2.VideoCapture(0)\n",
    "\n",
    "while True:\n",
    "     ret, frame = cap.read()\n",
    "    \n",
    "     gray = cv2.cvtColor(frame, cv2.COLOR_BGR2GRAY)\n",
    "     blur = faceBlur(gray, frame)\n",
    "     cv2.imshow('Video', blur)\n",
    "    \n",
    "     if cv2.waitKey(1) & 0xFF == ord('q'):\n",
    "         break\n",
    "        \n",
    "cap.release()\n",
    "cv2.destroyAllWindows()"
   ]
  },
  {
   "cell_type": "code",
   "execution_count": null,
   "metadata": {},
   "outputs": [],
   "source": []
  }
 ],
 "metadata": {
  "kernelspec": {
   "display_name": "Python 3",
   "language": "python",
   "name": "python3"
  },
  "language_info": {
   "codemirror_mode": {
    "name": "ipython",
    "version": 3
   },
   "file_extension": ".py",
   "mimetype": "text/x-python",
   "name": "python",
   "nbconvert_exporter": "python",
   "pygments_lexer": "ipython3",
   "version": "3.8.5"
  }
 },
 "nbformat": 4,
 "nbformat_minor": 4
}
